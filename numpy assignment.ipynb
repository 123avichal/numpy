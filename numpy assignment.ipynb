{
 "cells": [
  {
   "cell_type": "markdown",
   "id": "1b23baad-fa2e-4bf9-9b97-cd7b528cb006",
   "metadata": {},
   "source": [
    "3. Fin^ the shape, size an^ ^imension of the following array?\n",
    "[[1, 2, 3, 4]\n",
    "[5, 6, 7, 8],\n",
    "[9, 10, 11, 12]]"
   ]
  },
  {
   "cell_type": "code",
   "execution_count": 2,
   "id": "b4eaa10b-c7f3-47ae-b226-20c8ddc64c8d",
   "metadata": {},
   "outputs": [],
   "source": [
    "import numpy as np"
   ]
  },
  {
   "cell_type": "code",
   "execution_count": 17,
   "id": "d198fc51-8b4f-4827-83fd-23e5ebafa3a7",
   "metadata": {},
   "outputs": [],
   "source": [
    "a=[[1, 2, 3, 4],\n",
    "[5, 6, 7, 8],\n",
    "[9, 10, 11, 12]]\n",
    "array=np.array(a)"
   ]
  },
  {
   "cell_type": "code",
   "execution_count": 10,
   "id": "c966ab9c-9d43-4e4c-bd2c-72a601a52fe3",
   "metadata": {},
   "outputs": [
    {
     "data": {
      "text/plain": [
       "((3, 4), 12)"
      ]
     },
     "execution_count": 10,
     "metadata": {},
     "output_type": "execute_result"
    }
   ],
   "source": [
    "array.shape,array.size"
   ]
  },
  {
   "cell_type": "code",
   "execution_count": null,
   "id": "d55b473d-be60-47cd-838d-8099b28655a5",
   "metadata": {},
   "outputs": [],
   "source": [
    "4. Write python co^e to access the first row of the following array?\n",
    "[[1, 2, 3, 4]\n",
    "[5, 6, 7, 8],\n",
    "[9, 10, 11, 12]]"
   ]
  },
  {
   "cell_type": "code",
   "execution_count": 21,
   "id": "3d7d0394-eed5-46e1-b72e-138c55f72fec",
   "metadata": {},
   "outputs": [
    {
     "data": {
      "text/plain": [
       "array([1, 2, 3, 4])"
      ]
     },
     "execution_count": 21,
     "metadata": {},
     "output_type": "execute_result"
    }
   ],
   "source": [
    "array[0]"
   ]
  },
  {
   "cell_type": "code",
   "execution_count": null,
   "id": "d0a74fb9-a7be-4b9f-b4e8-a349e9b39d63",
   "metadata": {},
   "outputs": [],
   "source": [
    "5. How ^o you access the element at the thir^ row an^ fourth column from the given numpy array?\n",
    "[[1, 2, 3, 4]\n",
    "[5, 6, 7, 8],\n",
    "[9, 10, 11, 12]]"
   ]
  },
  {
   "cell_type": "code",
   "execution_count": 34,
   "id": "58472788-5384-4363-987e-a128d93f440c",
   "metadata": {},
   "outputs": [
    {
     "data": {
      "text/plain": [
       "12"
      ]
     },
     "execution_count": 34,
     "metadata": {},
     "output_type": "execute_result"
    }
   ],
   "source": [
    "array[2,3]"
   ]
  },
  {
   "cell_type": "code",
   "execution_count": null,
   "id": "b4257566-d015-4f18-a0fc-040b4966243c",
   "metadata": {},
   "outputs": [],
   "source": [
    "6. Write co^e to extract all o^^-in^exe^ elements from the given numpy array?\n",
    "[[1, 2, 3, 4]\n",
    "[5, 6, 7, 8],\n",
    "[9, 10, 11, 12]]"
   ]
  },
  {
   "cell_type": "code",
   "execution_count": 43,
   "id": "5ffd484b-69c0-47bc-98f2-02489bcb7838",
   "metadata": {},
   "outputs": [
    {
     "data": {
      "text/plain": [
       "array([ 1,  3,  5,  7,  9, 11])"
      ]
     },
     "execution_count": 43,
     "metadata": {},
     "output_type": "execute_result"
    }
   ],
   "source": [
    "array[array%2!=0]"
   ]
  },
  {
   "cell_type": "markdown",
   "id": "68fe4fb5-7411-4a6f-8301-7e51c7a58082",
   "metadata": {},
   "source": [
    "7. How can you generate a ran^om 3x3 matrix with values between 0 an^ 1?"
   ]
  },
  {
   "cell_type": "code",
   "execution_count": 58,
   "id": "cb25cb2a-6770-4fe9-aa17-561b367bf449",
   "metadata": {},
   "outputs": [],
   "source": [
    "a4=np.eye(3,3)"
   ]
  },
  {
   "cell_type": "code",
   "execution_count": null,
   "id": "abe7aa2b-1f3a-4f8c-9328-3ef3d2ce1a42",
   "metadata": {},
   "outputs": [],
   "source": [
    "9. Write co^e to increase the ^imension of the following array?\n",
    "[[1, 2, 3, 4]\n",
    "[5, 6, 7, 8],\n",
    "[9, 10, 11, 12]]"
   ]
  },
  {
   "cell_type": "code",
   "execution_count": 62,
   "id": "0b5e4268-6927-4198-aca7-a47f38617225",
   "metadata": {},
   "outputs": [],
   "source": [
    "a5=np.array([[1, 2, 3, 4],\n",
    "[5, 6, 7, 8],\n",
    "[9, 10, 11, 12]])"
   ]
  },
  {
   "cell_type": "code",
   "execution_count": 76,
   "id": "b976704a-1710-45ea-b8d6-4b70e9f9b219",
   "metadata": {},
   "outputs": [
    {
     "data": {
      "text/plain": [
       "array([[[ 1,  2,  3,  4]],\n",
       "\n",
       "       [[ 5,  6,  7,  8]],\n",
       "\n",
       "       [[ 9, 10, 11, 12]]])"
      ]
     },
     "execution_count": 76,
     "metadata": {},
     "output_type": "execute_result"
    }
   ],
   "source": [
    "np.expand_dims(a5,axis=1)"
   ]
  },
  {
   "cell_type": "code",
   "execution_count": null,
   "id": "5084ae33-dc0a-4ea2-bc50-2e591788ea63",
   "metadata": {},
   "outputs": [],
   "source": [
    "10. How to transpose the following array in NumPy?\n",
    "[[1, 2, 3, 4]\n",
    "[5, 6, 7, 8],\n",
    "[9, 10, 11, 12]]"
   ]
  },
  {
   "cell_type": "code",
   "execution_count": 78,
   "id": "cd62e0e8-a081-4f8e-9797-8559f76fd8db",
   "metadata": {},
   "outputs": [
    {
     "data": {
      "text/plain": [
       "array([[ 1,  5,  9],\n",
       "       [ 2,  6, 10],\n",
       "       [ 3,  7, 11],\n",
       "       [ 4,  8, 12]])"
      ]
     },
     "execution_count": 78,
     "metadata": {},
     "output_type": "execute_result"
    }
   ],
   "source": [
    "a5.T"
   ]
  },
  {
   "cell_type": "markdown",
   "id": "3e89b953-80c0-468a-9ce7-62e0e4037ecb",
   "metadata": {},
   "source": [
    "11. Consi^er the following matrix:\n",
    "Matrix A2 [[1, 2, 3, 4] [5, 6, 7, 8],[9, 10, 11, 12]]\n",
    "Matrix B2 [[1, 2, 3, 4] [5, 6, 7, 8],[9, 10, 11, 12]]\n",
    "\n",
    "Perform the following operation using Python1\n",
    ",+ I(dex wiLe multiplicatio'\n",
    "]+ Matix multiplicatio'\n",
    "+ Add both the maticK\n",
    "-+ Subtact matix B om \n",
    "+ Diide Matix B by A"
   ]
  },
  {
   "cell_type": "code",
   "execution_count": 87,
   "id": "130f2b78-eaf7-4078-b84d-79e9fddc7a05",
   "metadata": {},
   "outputs": [],
   "source": [
    "Matrix1 = [[1, 2, 3, 4], [5, 6, 7, 8],[9, 10, 11, 12]]\n",
    "Matrix2 =[[1, 2, 3, 4], [5, 6, 7, 8],[9, 10, 11, 12]]"
   ]
  },
  {
   "cell_type": "code",
   "execution_count": 88,
   "id": "0729ad23-87a6-4630-8d58-afdc4a02485d",
   "metadata": {},
   "outputs": [],
   "source": [
    "Matrix1 =np.array(Matrix1)\n",
    "Matrix2 =np.array(Matrix2)"
   ]
  },
  {
   "cell_type": "code",
   "execution_count": 90,
   "id": "953f0cb9-6b47-4666-a1ea-fe0d7aa0f6d2",
   "metadata": {},
   "outputs": [
    {
     "data": {
      "text/plain": [
       "array([[  1,   4,   9,  16],\n",
       "       [ 25,  36,  49,  64],\n",
       "       [ 81, 100, 121, 144]])"
      ]
     },
     "execution_count": 90,
     "metadata": {},
     "output_type": "execute_result"
    }
   ],
   "source": [
    "Matrix1*Matrix2"
   ]
  },
  {
   "cell_type": "code",
   "execution_count": 95,
   "id": "fe4db429-893a-4b96-b1a3-8d9e298dac9b",
   "metadata": {},
   "outputs": [
    {
     "data": {
      "text/plain": [
       "array([[16, 20, 24, 28],\n",
       "       [20, 24, 28, 32],\n",
       "       [24, 28, 32, 36]])"
      ]
     },
     "execution_count": 95,
     "metadata": {},
     "output_type": "execute_result"
    }
   ],
   "source": [
    "sum(Matrix1,Matrix2)"
   ]
  },
  {
   "cell_type": "code",
   "execution_count": 96,
   "id": "72dcc1b1-bc30-41cc-b489-eccb740b269c",
   "metadata": {},
   "outputs": [
    {
     "data": {
      "text/plain": [
       "array([[0, 0, 0, 0],\n",
       "       [0, 0, 0, 0],\n",
       "       [0, 0, 0, 0]])"
      ]
     },
     "execution_count": 96,
     "metadata": {},
     "output_type": "execute_result"
    }
   ],
   "source": [
    "Matrix2-Matrix1"
   ]
  },
  {
   "cell_type": "code",
   "execution_count": 97,
   "id": "63e5ef6e-f569-463c-a002-e6ed812aca61",
   "metadata": {},
   "outputs": [
    {
     "data": {
      "text/plain": [
       "array([[1., 1., 1., 1.],\n",
       "       [1., 1., 1., 1.],\n",
       "       [1., 1., 1., 1.]])"
      ]
     },
     "execution_count": 97,
     "metadata": {},
     "output_type": "execute_result"
    }
   ],
   "source": [
    "Matrix1/Matrix2"
   ]
  },
  {
   "cell_type": "code",
   "execution_count": 102,
   "id": "7c6ae401-6274-4eec-8cd7-b567fb2402b9",
   "metadata": {},
   "outputs": [
    {
     "data": {
      "text/plain": [
       "array([[ 2,  4,  6,  8],\n",
       "       [10, 12, 14, 16],\n",
       "       [18, 20, 22, 24]])"
      ]
     },
     "execution_count": 102,
     "metadata": {},
     "output_type": "execute_result"
    }
   ],
   "source": [
    "2*Matrix1[0:3]"
   ]
  },
  {
   "cell_type": "code",
   "execution_count": 104,
   "id": "505312a6-3064-4dfe-973c-3991d2b963b9",
   "metadata": {},
   "outputs": [
    {
     "data": {
      "text/plain": [
       "array([[ 3,  6,  9, 12],\n",
       "       [15, 18, 21, 24],\n",
       "       [27, 30, 33, 36]])"
      ]
     },
     "execution_count": 104,
     "metadata": {},
     "output_type": "execute_result"
    }
   ],
   "source": [
    "3*Matrix2[0:3]"
   ]
  },
  {
   "cell_type": "markdown",
   "id": "e743ae48-002f-42a0-8e4f-80983a3a14f6",
   "metadata": {},
   "source": [
    "1. What is a Python library? Why ^o we use Python libraries?\n",
    "2. What is the difference between Numpy array and List?"
   ]
  },
  {
   "cell_type": "markdown",
   "id": "7dfa0427-5a9d-4a72-b070-a239d696db22",
   "metadata": {},
   "source": [
    "1 Python libraries are collections of pre-written code and functions that extend the capabilities of the Python programming language. They provide a wide range of tools and modules for various tasks, making it easier for developers to work on specific tasks without reinventing the wheel\n",
    "\n",
    "2 The main difference is that NumPy arrays are much faster and have strict requirements on the homogeneity of the objects. For example, a NumPy array of strings can only contain strings and no other data types, but a Python list can contain a mixture of strings, numbers, booleans and other objects."
   ]
  },
  {
   "cell_type": "markdown",
   "id": "7dcf6007-7e59-4474-aa94-a4d83da147fa",
   "metadata": {},
   "source": [
    "12. Which function in Numpy can be used to swap the byte order of an array?\n",
    "13. What is the significance of the np.linalg.inv function?\n",
    "14. What does the np.reshape function do, and how is it used?\n",
    "15. What is broadcasting in Numpy?"
   ]
  },
  {
   "cell_type": "markdown",
   "id": "7ca22d12-8324-43fb-a0b0-48e4465656a9",
   "metadata": {},
   "source": [
    "12 byteswap() method swaps the bytes of the array elements. It toggles between low-endian and big-endian data representation by returning a byteswapped array, optionally swapped in-place\n",
    "\n",
    "13 The np. linalg. inv() function in numpy provides a convenient and efficient way to calculate the inverse of a matrix in Python. It handles various edge cases and is widely used in scientific and engineering applications.\n",
    "\n",
    "14 Change an Array's Shape Using NumPy reshape() NumPy's reshape() enables you to change the shape of an array into another compatible shape. Not all shapes are compatible since all the elements from the original array needs to fit into the new array. You can use reshape() as either a function or a method.\n",
    "\n",
    "15 numpy.broadcast. The term broadcasting describes how NumPy treats arrays with different shapes during arithmetic operations. Subject to certain constraints, the smaller array is “broadcast” across the larger array so that they have compatible shapes."
   ]
  }
 ],
 "metadata": {
  "kernelspec": {
   "display_name": "Python 3 (ipykernel)",
   "language": "python",
   "name": "python3"
  },
  "language_info": {
   "codemirror_mode": {
    "name": "ipython",
    "version": 3
   },
   "file_extension": ".py",
   "mimetype": "text/x-python",
   "name": "python",
   "nbconvert_exporter": "python",
   "pygments_lexer": "ipython3",
   "version": "3.10.8"
  }
 },
 "nbformat": 4,
 "nbformat_minor": 5
}
